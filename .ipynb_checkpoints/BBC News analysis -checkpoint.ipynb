{
 "cells": [
  {
   "cell_type": "code",
   "execution_count": 1,
   "metadata": {},
   "outputs": [],
   "source": [
    "import numpy as np\n",
    "import pandas as pd \n",
    "% matplotlib inline\n",
    "import matplotlib.pyplot as plt\n",
    "import seaborn as sns "
   ]
  },
  {
   "cell_type": "code",
   "execution_count": 2,
   "metadata": {},
   "outputs": [],
   "source": [
    "from youtube_search import youtube_search"
   ]
  },
  {
   "cell_type": "code",
   "execution_count": 3,
   "metadata": {},
   "outputs": [],
   "source": [
    "data = youtube_search('BBC News عربي')\n"
   ]
  },
  {
   "cell_type": "code",
   "execution_count": 4,
   "metadata": {},
   "outputs": [
    {
     "name": "stdout",
     "output_type": "stream",
     "text": [
      "<class 'pandas.core.frame.DataFrame'>\n",
      "RangeIndex: 50 entries, 0 to 49\n",
      "Data columns (total 7 columns):\n",
      "title            50 non-null object\n",
      "videoId          50 non-null object\n",
      "viewCount        50 non-null int64\n",
      "likeCount        50 non-null int64\n",
      "dislikeCount     50 non-null int64\n",
      "commentCount     50 non-null int64\n",
      "favoriteCount    50 non-null int64\n",
      "dtypes: int64(5), object(2)\n",
      "memory usage: 2.8+ KB\n"
     ]
    }
   ],
   "source": [
    "df = pd.read_csv('video_result.csv')\n",
    "df.info()"
   ]
  },
  {
   "cell_type": "code",
   "execution_count": 5,
   "metadata": {},
   "outputs": [
    {
     "data": {
      "text/html": [
       "<div>\n",
       "<style scoped>\n",
       "    .dataframe tbody tr th:only-of-type {\n",
       "        vertical-align: middle;\n",
       "    }\n",
       "\n",
       "    .dataframe tbody tr th {\n",
       "        vertical-align: top;\n",
       "    }\n",
       "\n",
       "    .dataframe thead th {\n",
       "        text-align: right;\n",
       "    }\n",
       "</style>\n",
       "<table border=\"1\" class=\"dataframe\">\n",
       "  <thead>\n",
       "    <tr style=\"text-align: right;\">\n",
       "      <th></th>\n",
       "      <th>title</th>\n",
       "      <th>videoId</th>\n",
       "      <th>viewCount</th>\n",
       "      <th>likeCount</th>\n",
       "      <th>dislikeCount</th>\n",
       "      <th>commentCount</th>\n",
       "      <th>favoriteCount</th>\n",
       "    </tr>\n",
       "  </thead>\n",
       "  <tbody>\n",
       "    <tr>\n",
       "      <th>0</th>\n",
       "      <td>BBC Arabic Live - lbth lmbshr ltlfzywn by by s...</td>\n",
       "      <td>HxI2TxhhS9A</td>\n",
       "      <td>7719662</td>\n",
       "      <td>0</td>\n",
       "      <td>0</td>\n",
       "      <td>0</td>\n",
       "      <td>0</td>\n",
       "    </tr>\n",
       "    <tr>\n",
       "      <th>1</th>\n",
       "      <td>#Hdyth_ls`@.. m `wqb qrr wqf Sdrt lnfT ls`wdy@...</td>\n",
       "      <td>uoAZg7Y6_wY</td>\n",
       "      <td>1279</td>\n",
       "      <td>12</td>\n",
       "      <td>3</td>\n",
       "      <td>8</td>\n",
       "      <td>0</td>\n",
       "    </tr>\n",
       "    <tr>\n",
       "      <th>2</th>\n",
       "      <td>BBC Arabic TV - News - 081217</td>\n",
       "      <td>FDMffQuDOhY</td>\n",
       "      <td>31368</td>\n",
       "      <td>94</td>\n",
       "      <td>8</td>\n",
       "      <td>0</td>\n",
       "      <td>0</td>\n",
       "    </tr>\n",
       "    <tr>\n",
       "      <th>3</th>\n",
       "      <td>by_by_sy_trndynG:  nshrH kyf qtl \"skwbr lbnn\" ...</td>\n",
       "      <td>deCBSe0H0IQ</td>\n",
       "      <td>95823</td>\n",
       "      <td>1040</td>\n",
       "      <td>77</td>\n",
       "      <td>440</td>\n",
       "      <td>0</td>\n",
       "    </tr>\n",
       "    <tr>\n",
       "      <th>4</th>\n",
       "      <td>by_by_sy_trndynG: ntHdth m` \"Tbyb lfqr\" fy #lm...</td>\n",
       "      <td>2DOmaS5rblc</td>\n",
       "      <td>11408</td>\n",
       "      <td>533</td>\n",
       "      <td>1</td>\n",
       "      <td>87</td>\n",
       "      <td>0</td>\n",
       "    </tr>\n",
       "  </tbody>\n",
       "</table>\n",
       "</div>"
      ],
      "text/plain": [
       "                                               title      videoId  viewCount  \\\n",
       "0  BBC Arabic Live - lbth lmbshr ltlfzywn by by s...  HxI2TxhhS9A    7719662   \n",
       "1  #Hdyth_ls`@.. m `wqb qrr wqf Sdrt lnfT ls`wdy@...  uoAZg7Y6_wY       1279   \n",
       "2                      BBC Arabic TV - News - 081217  FDMffQuDOhY      31368   \n",
       "3  by_by_sy_trndynG:  nshrH kyf qtl \"skwbr lbnn\" ...  deCBSe0H0IQ      95823   \n",
       "4  by_by_sy_trndynG: ntHdth m` \"Tbyb lfqr\" fy #lm...  2DOmaS5rblc      11408   \n",
       "\n",
       "   likeCount  dislikeCount  commentCount  favoriteCount  \n",
       "0          0             0             0              0  \n",
       "1         12             3             8              0  \n",
       "2         94             8             0              0  \n",
       "3       1040            77           440              0  \n",
       "4        533             1            87              0  "
      ]
     },
     "execution_count": 5,
     "metadata": {},
     "output_type": "execute_result"
    }
   ],
   "source": [
    "df.head()"
   ]
  },
  {
   "cell_type": "code",
   "execution_count": 24,
   "metadata": {},
   "outputs": [
    {
     "data": {
      "text/plain": [
       "count        50.000000\n",
       "mean     616071.960000\n",
       "std     1883068.583498\n",
       "min          86.000000\n",
       "25%        1969.750000\n",
       "50%       19416.000000\n",
       "75%       95323.500000\n",
       "max     9123574.000000\n",
       "Name: viewCount, dtype: float64"
      ]
     },
     "execution_count": 24,
     "metadata": {},
     "output_type": "execute_result"
    }
   ],
   "source": [
    "pd.set_option('float_format', '{:f}'.format)\n",
    "df['viewCount'].describe()\n"
   ]
  },
  {
   "cell_type": "code",
   "execution_count": 51,
   "metadata": {},
   "outputs": [
    {
     "data": {
      "image/png": "[encoded data removed]",
      "text/plain": [
       "<Figure size 432x288 with 1 Axes>"
      ]
     },
     "metadata": {},
     "output_type": "display_data"
    }
   ],
   "source": [
    "# plot andremove relative shift in matplotlib axis ount_veiw\n",
    "import  matplotlib.ticker as mt\n",
    "plt.figure()\n",
    "ax = plt.gca()\n",
    "fmt = mt.ScalarFormatter(useOffset=False)\n",
    "fmt.set_scientific(False)\n",
    "ax.xaxis.set_major_formatter(fmt)\n",
    "hist_1,edges_1  = np.histogram(df['viewCount'])\n",
    "plt.bar(edges_1[:-1], hist_1,width =edges_1[1:]-edges_1[:-1])\n",
    "plt.show()"
   ]
  },
  {
   "cell_type": "code",
   "execution_count": 66,
   "metadata": {},
   "outputs": [
    {
     "name": "stderr",
     "output_type": "stream",
     "text": [
      "E:\\python\\lib\\site-packages\\matplotlib\\axes\\_axes.py:6462: UserWarning: The 'normed' kwarg is deprecated, and has been replaced by the 'density' kwarg.\n",
      "  warnings.warn(\"The 'normed' kwarg is deprecated, and has been \"\n"
     ]
    },
    {
     "data": {
      "text/plain": [
       "<matplotlib.axes._subplots.AxesSubplot at 0x2566aa5b278>"
      ]
     },
     "execution_count": 66,
     "metadata": {},
     "output_type": "execute_result"
    },
    {
     "data": {
      "image/png": "[encoded data removed]",
      "text/plain": [
       "<Figure size 504x432 with 1 Axes>"
      ]
     },
     "metadata": {},
     "output_type": "display_data"
    }
   ],
   "source": [
    "plt.figure(figsize = (7,6))\n",
    "ax = plt.gca()\n",
    "fmt = mt.ScalarFormatter(useOffset=False)\n",
    "fmt.set_scientific(False)\n",
    "ax.xaxis.set_major_formatter(fmt)\n",
    "sns.distplot(df['viewCount'],bins =50, hist_kws={'alpha': 0.4})"
   ]
  },
  {
   "cell_type": "code",
   "execution_count": 67,
   "metadata": {},
   "outputs": [
    {
     "data": {
      "text/plain": [
       "<matplotlib.axes._subplots.AxesSubplot at 0x2566aabc470>"
      ]
     },
     "execution_count": 67,
     "metadata": {},
     "output_type": "execute_result"
    },
    {
     "data": {
      "image/png": "[encoded data removed]",
      "text/plain": [
       "<Figure size 432x288 with 2 Axes>"
      ]
     },
     "metadata": {},
     "output_type": "display_data"
    }
   ],
   "source": [
    "sns.heatmap(df.corr(), cmap=\"YlGnBu\")"
   ]
  },
  {
   "cell_type": "code",
   "execution_count": 14,
   "metadata": {},
   "outputs": [
    {
     "data": {
      "text/html": [
       "<div>\n",
       "<style scoped>\n",
       "    .dataframe tbody tr th:only-of-type {\n",
       "        vertical-align: middle;\n",
       "    }\n",
       "\n",
       "    .dataframe tbody tr th {\n",
       "        vertical-align: top;\n",
       "    }\n",
       "\n",
       "    .dataframe thead th {\n",
       "        text-align: right;\n",
       "    }\n",
       "</style>\n",
       "<table border=\"1\" class=\"dataframe\">\n",
       "  <thead>\n",
       "    <tr style=\"text-align: right;\">\n",
       "      <th></th>\n",
       "      <th>viewCount</th>\n",
       "      <th>likeCount</th>\n",
       "      <th>dislikeCount</th>\n",
       "      <th>commentCount</th>\n",
       "      <th>favoriteCount</th>\n",
       "    </tr>\n",
       "  </thead>\n",
       "  <tbody>\n",
       "    <tr>\n",
       "      <th>viewCount</th>\n",
       "      <td>1.000000</td>\n",
       "      <td>0.611883</td>\n",
       "      <td>0.573999</td>\n",
       "      <td>0.074033</td>\n",
       "      <td>nan</td>\n",
       "    </tr>\n",
       "    <tr>\n",
       "      <th>likeCount</th>\n",
       "      <td>0.611883</td>\n",
       "      <td>1.000000</td>\n",
       "      <td>0.966620</td>\n",
       "      <td>0.506256</td>\n",
       "      <td>nan</td>\n",
       "    </tr>\n",
       "    <tr>\n",
       "      <th>dislikeCount</th>\n",
       "      <td>0.573999</td>\n",
       "      <td>0.966620</td>\n",
       "      <td>1.000000</td>\n",
       "      <td>0.584318</td>\n",
       "      <td>nan</td>\n",
       "    </tr>\n",
       "    <tr>\n",
       "      <th>commentCount</th>\n",
       "      <td>0.074033</td>\n",
       "      <td>0.506256</td>\n",
       "      <td>0.584318</td>\n",
       "      <td>1.000000</td>\n",
       "      <td>nan</td>\n",
       "    </tr>\n",
       "    <tr>\n",
       "      <th>favoriteCount</th>\n",
       "      <td>nan</td>\n",
       "      <td>nan</td>\n",
       "      <td>nan</td>\n",
       "      <td>nan</td>\n",
       "      <td>nan</td>\n",
       "    </tr>\n",
       "  </tbody>\n",
       "</table>\n",
       "</div>"
      ],
      "text/plain": [
       "               viewCount  likeCount  dislikeCount  commentCount  favoriteCount\n",
       "viewCount       1.000000   0.611883      0.573999      0.074033            nan\n",
       "likeCount       0.611883   1.000000      0.966620      0.506256            nan\n",
       "dislikeCount    0.573999   0.966620      1.000000      0.584318            nan\n",
       "commentCount    0.074033   0.506256      0.584318      1.000000            nan\n",
       "favoriteCount        nan        nan           nan           nan            nan"
      ]
     },
     "execution_count": 14,
     "metadata": {},
     "output_type": "execute_result"
    }
   ],
   "source": [
    "df.corr()"
   ]
  },
  {
   "cell_type": "code",
   "execution_count": 68,
   "metadata": {},
   "outputs": [
    {
     "data": {
      "text/plain": [
       "<matplotlib.collections.PathCollection at 0x2566abcecc0>"
      ]
     },
     "execution_count": 68,
     "metadata": {},
     "output_type": "execute_result"
    },
    {
     "data": {
      "image/png": "[encoded data removed]",
      "text/plain": [
       "<Figure size 504x432 with 1 Axes>"
      ]
     },
     "metadata": {},
     "output_type": "display_data"
    }
   ],
   "source": [
    "plt.figure(figsize = (7,6))\n",
    "ax = plt.gca()\n",
    "fmt = mt.ScalarFormatter(useOffset=False)\n",
    "fmt.set_scientific(False)\n",
    "ax.xaxis.set_major_formatter(fmt)\n",
    "plt.scatter(df['viewCount'],df['likeCount'])"
   ]
  },
  {
   "cell_type": "code",
   "execution_count": 16,
   "metadata": {},
   "outputs": [],
   "source": [
    "import statsmodels.api as sm\n",
    "x = df['viewCount']\n",
    "y = df['likeCount']\n",
    "x = sm.add_constant(x)"
   ]
  },
  {
   "cell_type": "code",
   "execution_count": 17,
   "metadata": {},
   "outputs": [
    {
     "data": {
      "text/html": [
       "<table class=\"simpletable\">\n",
       "<caption>OLS Regression Results</caption>\n",
       "<tr>\n",
       "  <th>Dep. Variable:</th>        <td>likeCount</td>    <th>  R-squared:         </th> <td>   0.374</td>\n",
       "</tr>\n",
       "<tr>\n",
       "  <th>Model:</th>                   <td>OLS</td>       <th>  Adj. R-squared:    </th> <td>   0.361</td>\n",
       "</tr>\n",
       "<tr>\n",
       "  <th>Method:</th>             <td>Least Squares</td>  <th>  F-statistic:       </th> <td>   28.73</td>\n",
       "</tr>\n",
       "<tr>\n",
       "  <th>Date:</th>             <td>Fri, 27 Jul 2018</td> <th>  Prob (F-statistic):</th> <td>2.34e-06</td>\n",
       "</tr>\n",
       "<tr>\n",
       "  <th>Time:</th>                 <td>15:18:04</td>     <th>  Log-Likelihood:    </th> <td> -452.01</td>\n",
       "</tr>\n",
       "<tr>\n",
       "  <th>No. Observations:</th>      <td>    50</td>      <th>  AIC:               </th> <td>   908.0</td>\n",
       "</tr>\n",
       "<tr>\n",
       "  <th>Df Residuals:</th>          <td>    48</td>      <th>  BIC:               </th> <td>   911.8</td>\n",
       "</tr>\n",
       "<tr>\n",
       "  <th>Df Model:</th>              <td>     1</td>      <th>                     </th>     <td> </td>   \n",
       "</tr>\n",
       "<tr>\n",
       "  <th>Covariance Type:</th>      <td>nonrobust</td>    <th>                     </th>     <td> </td>   \n",
       "</tr>\n",
       "</table>\n",
       "<table class=\"simpletable\">\n",
       "<tr>\n",
       "      <td></td>         <th>coef</th>     <th>std err</th>      <th>t</th>      <th>P>|t|</th>  <th>[0.025</th>    <th>0.975]</th>  \n",
       "</tr>\n",
       "<tr>\n",
       "  <th>const</th>     <td>  547.8292</td> <td>  310.262</td> <td>    1.766</td> <td> 0.084</td> <td>  -75.994</td> <td> 1171.653</td>\n",
       "</tr>\n",
       "<tr>\n",
       "  <th>viewCount</th> <td>    0.0008</td> <td>    0.000</td> <td>    5.360</td> <td> 0.000</td> <td>    0.001</td> <td>    0.001</td>\n",
       "</tr>\n",
       "</table>\n",
       "<table class=\"simpletable\">\n",
       "<tr>\n",
       "  <th>Omnibus:</th>       <td>14.335</td> <th>  Durbin-Watson:     </th> <td>   1.849</td>\n",
       "</tr>\n",
       "<tr>\n",
       "  <th>Prob(Omnibus):</th> <td> 0.001</td> <th>  Jarque-Bera (JB):  </th> <td>  58.948</td>\n",
       "</tr>\n",
       "<tr>\n",
       "  <th>Skew:</th>          <td> 0.202</td> <th>  Prob(JB):          </th> <td>1.58e-13</td>\n",
       "</tr>\n",
       "<tr>\n",
       "  <th>Kurtosis:</th>      <td> 8.304</td> <th>  Cond. No.          </th> <td>2.07e+06</td>\n",
       "</tr>\n",
       "</table><br/><br/>Warnings:<br/>[1] Standard Errors assume that the covariance matrix of the errors is correctly specified.<br/>[2] The condition number is large, 2.07e+06. This might indicate that there are<br/>strong multicollinearity or other numerical problems."
      ],
      "text/plain": [
       "<class 'statsmodels.iolib.summary.Summary'>\n",
       "\"\"\"\n",
       "                            OLS Regression Results                            \n",
       "==============================================================================\n",
       "Dep. Variable:              likeCount   R-squared:                       0.374\n",
       "Model:                            OLS   Adj. R-squared:                  0.361\n",
       "Method:                 Least Squares   F-statistic:                     28.73\n",
       "Date:                Fri, 27 Jul 2018   Prob (F-statistic):           2.34e-06\n",
       "Time:                        15:18:04   Log-Likelihood:                -452.01\n",
       "No. Observations:                  50   AIC:                             908.0\n",
       "Df Residuals:                      48   BIC:                             911.8\n",
       "Df Model:                           1                                         \n",
       "Covariance Type:            nonrobust                                         \n",
       "==============================================================================\n",
       "                 coef    std err          t      P>|t|      [0.025      0.975]\n",
       "------------------------------------------------------------------------------\n",
       "const        547.8292    310.262      1.766      0.084     -75.994    1171.653\n",
       "viewCount      0.0008      0.000      5.360      0.000       0.001       0.001\n",
       "==============================================================================\n",
       "Omnibus:                       14.335   Durbin-Watson:                   1.849\n",
       "Prob(Omnibus):                  0.001   Jarque-Bera (JB):               58.948\n",
       "Skew:                           0.202   Prob(JB):                     1.58e-13\n",
       "Kurtosis:                       8.304   Cond. No.                     2.07e+06\n",
       "==============================================================================\n",
       "\n",
       "Warnings:\n",
       "[1] Standard Errors assume that the covariance matrix of the errors is correctly specified.\n",
       "[2] The condition number is large, 2.07e+06. This might indicate that there are\n",
       "strong multicollinearity or other numerical problems.\n",
       "\"\"\""
      ]
     },
     "execution_count": 17,
     "metadata": {},
     "output_type": "execute_result"
    }
   ],
   "source": [
    "lr_model = sm.OLS(y,x).fit()\n",
    "lr_model.summary()"
   ]
  },
  {
   "cell_type": "code",
   "execution_count": null,
   "metadata": {},
   "outputs": [],
   "source": [
    "https://seaborn.pydata.org/api.html"
   ]
  }
 ],
 "metadata": {
  "kernelspec": {
   "display_name": "Python 3",
   "language": "python",
   "name": "python3"
  },
  "language_info": {
   "codemirror_mode": {
    "name": "ipython",
    "version": 3
   },
   "file_extension": ".py",
   "mimetype": "text/x-python",
   "name": "python",
   "nbconvert_exporter": "python",
   "pygments_lexer": "ipython3",
   "version": "3.6.5"
  }
 },
 "nbformat": 4,
 "nbformat_minor": 2
}
